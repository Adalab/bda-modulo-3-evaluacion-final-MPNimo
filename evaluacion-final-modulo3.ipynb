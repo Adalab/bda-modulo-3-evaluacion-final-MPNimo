{
 "cells": [
  {
   "cell_type": "markdown",
   "id": "e5e37312",
   "metadata": {},
   "source": [
    "Hola"
   ]
  },
  {
   "cell_type": "code",
   "execution_count": 1,
   "id": "6b150ca5",
   "metadata": {},
   "outputs": [
    {
     "name": "stdout",
     "output_type": "stream",
     "text": [
      "Hola\n"
     ]
    }
   ],
   "source": [
    "print('Hola')"
   ]
  }
 ],
 "metadata": {
  "kernelspec": {
   "display_name": "base",
   "language": "python",
   "name": "python3"
  },
  "language_info": {
   "name": "python",
   "version": "3.12.7"
  }
 },
 "nbformat": 4,
 "nbformat_minor": 5
}

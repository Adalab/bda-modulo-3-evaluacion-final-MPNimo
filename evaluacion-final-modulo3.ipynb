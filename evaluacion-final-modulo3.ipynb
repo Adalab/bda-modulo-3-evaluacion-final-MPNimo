{
 "cells": [
  {
   "cell_type": "markdown",
   "id": "e5e37312",
   "metadata": {},
   "source": [
    "# Evaluación Final Módulo 3"
   ]
  },
  {
   "cell_type": "code",
   "execution_count": 1,
   "id": "6b150ca5",
   "metadata": {},
   "outputs": [],
   "source": [
    "# IMPORTAMOS LAS LIBRERÍAS QUE NECESITAMOS\n",
    "\n",
    "# Tratamiento de datos\n",
    "# -----------------------------------------------------------------------\n",
    "import pandas as pd\n",
    "import numpy as np\n",
    "\n",
    "# Imputación de nulos\n",
    "# -----------------------------------------------------------------------\n",
    "from sklearn.impute import SimpleImputer \n",
    "from sklearn.experimental import enable_iterative_imputer # Necesario para IterativeImputer\n",
    "from sklearn.impute import IterativeImputer \n",
    "from sklearn.impute import KNNImputer \n",
    "\n",
    "# Visualización\n",
    "# -----------------------------------------------------------------------\n",
    "import matplotlib.pyplot as plt\n",
    "import seaborn as sns\n",
    "\n",
    "# Evaluar linealidad de las relaciones entre las variables\n",
    "# y la distribución de las variables\n",
    "# ------------------------------------------------------------------------\n",
    "import scipy.stats as st\n",
    "import scipy.stats as stats\n",
    "from scipy.stats import shapiro, poisson, chisquare, expon, kstest\n",
    "\n",
    "# Configuración\n",
    "# -----------------------------------------------------------------------\n",
    "pd.set_option('display.max_columns', None) # para poder visualizar todas las columnas de los DataFrames"
   ]
  },
  {
   "cell_type": "markdown",
   "id": "0f2848d4",
   "metadata": {},
   "source": [
    "### FASE 1: Exploración y limpieza.\n",
    "\n",
    "1. **Exploración inicial:**\n",
    "\n",
    "    - Realiza una exploración inicial de los datos para identificar posibles problemas, como valores nulos, atípicos o datos faltantes en las columnas relevantes.\n",
    "    - Utiliza funciones de Pandas para obtener información sobre la estructura de los datos, la presencia de valores nulos y estadísticas básicas de las columnas involucradas.\n",
    "    - Une los dos conjuntos de datos de la forma más eficiente.\n",
    "\n",
    "\n",
    "\n",
    "2. **Limpieza de datos:**\n",
    "\n",
    "    - Elimina o trata los valores nulos, si los hay, en las columnas clave para asegurar que los datos estén completos.\n",
    "    - Verifica la consistencia y corrección de los datos para asegurarte de que los datos se presenten de forma coherente.\n",
    "    - Realiza cualquier ajuste o conversión necesaria en las columnas (por ejemplo, cambiar tipos de datos) para garantizar la adecuación de los datos para el análisis estadístico."
   ]
  },
  {
   "cell_type": "code",
   "execution_count": 62,
   "id": "661c0436",
   "metadata": {},
   "outputs": [],
   "source": [
    "## Cargamos los datos de ambos ficheros: \n",
    "\n",
    "df_CFA = pd.read_csv('data/Customer-Flight-Activity.csv')\n",
    "df_CLH = pd.read_csv('data/Customer-Loyalty-History.csv')"
   ]
  },
  {
   "cell_type": "markdown",
   "id": "450799c5",
   "metadata": {},
   "source": [
    "En primer lugar se estudiará el conjunto de datos \"Customer Fligth Analysis\" y posteriormente, se hará lo mismo con el conjunto de datos \"Customer Loyalty History\"."
   ]
  },
  {
   "cell_type": "markdown",
   "id": "2c92fdb5",
   "metadata": {},
   "source": [
    "## **Dataframe**: Customer Fligth Analysis "
   ]
  },
  {
   "cell_type": "markdown",
   "id": "a9577992",
   "metadata": {},
   "source": [
    "Este archivo contiene información sobre la actividad de vuelo de los clientes, incluyendo el número de vuelos reservados, la distancia volada, puntos acumulados y redimidos, y costos asociados a los puntos redimidos. \n",
    "\n",
    "- **Loyalty Number**: Este atributo representa un identificador único para cada cliente dentro del programa de lealtad de la aerolínea. Cada número de lealtad corresponde a un cliente específico.\n",
    "- **Year**: Indica el año en el cual se registraron las actividades de vuelo para el cliente.\n",
    "- **Month**: Representa el mes del año (de 1 a 12) en el cual ocurrieron las actividades de vuelo.\n",
    "- **Flights Booked**: Número total de vuelos reservados por el cliente en ese mes específico.\n",
    "- **Flights with Companions**: Número de vuelos reservados en los cuales el cliente viajó con acompañantes.\n",
    "- **Total Flights**: El número total de vuelos que el cliente ha realizado, que puede incluir vuelos reservados en meses anteriores.\n",
    "- **Distance**: La distancia total (presumiblemente en millas o kilómetros) que el cliente ha volado durante el mes.\n",
    "- **Points Accumulated**: Puntos acumulados por el cliente en el programa de lealtad durante el mes, con base en la distancia volada u otros factores.\n",
    "- **Points Redeemed**: Puntos que el cliente ha redimido en el mes, posiblemente para obtener beneficios como vuelos gratis, mejoras, etc.\n",
    "- **Dollar Cost Points Redeemed**: El valor en dólares de los puntos que el cliente ha redimido durante el mes."
   ]
  },
  {
   "cell_type": "code",
   "execution_count": 63,
   "id": "b84ec003",
   "metadata": {},
   "outputs": [
    {
     "data": {
      "text/html": [
       "<div>\n",
       "<style scoped>\n",
       "    .dataframe tbody tr th:only-of-type {\n",
       "        vertical-align: middle;\n",
       "    }\n",
       "\n",
       "    .dataframe tbody tr th {\n",
       "        vertical-align: top;\n",
       "    }\n",
       "\n",
       "    .dataframe thead th {\n",
       "        text-align: right;\n",
       "    }\n",
       "</style>\n",
       "<table border=\"1\" class=\"dataframe\">\n",
       "  <thead>\n",
       "    <tr style=\"text-align: right;\">\n",
       "      <th></th>\n",
       "      <th>Loyalty Number</th>\n",
       "      <th>Year</th>\n",
       "      <th>Month</th>\n",
       "      <th>Flights Booked</th>\n",
       "      <th>Flights with Companions</th>\n",
       "      <th>Total Flights</th>\n",
       "      <th>Distance</th>\n",
       "      <th>Points Accumulated</th>\n",
       "      <th>Points Redeemed</th>\n",
       "      <th>Dollar Cost Points Redeemed</th>\n",
       "    </tr>\n",
       "  </thead>\n",
       "  <tbody>\n",
       "    <tr>\n",
       "      <th>0</th>\n",
       "      <td>100018</td>\n",
       "      <td>2017</td>\n",
       "      <td>1</td>\n",
       "      <td>3</td>\n",
       "      <td>0</td>\n",
       "      <td>3</td>\n",
       "      <td>1521</td>\n",
       "      <td>152.0</td>\n",
       "      <td>0</td>\n",
       "      <td>0</td>\n",
       "    </tr>\n",
       "    <tr>\n",
       "      <th>1</th>\n",
       "      <td>100102</td>\n",
       "      <td>2017</td>\n",
       "      <td>1</td>\n",
       "      <td>10</td>\n",
       "      <td>4</td>\n",
       "      <td>14</td>\n",
       "      <td>2030</td>\n",
       "      <td>203.0</td>\n",
       "      <td>0</td>\n",
       "      <td>0</td>\n",
       "    </tr>\n",
       "    <tr>\n",
       "      <th>2</th>\n",
       "      <td>100140</td>\n",
       "      <td>2017</td>\n",
       "      <td>1</td>\n",
       "      <td>6</td>\n",
       "      <td>0</td>\n",
       "      <td>6</td>\n",
       "      <td>1200</td>\n",
       "      <td>120.0</td>\n",
       "      <td>0</td>\n",
       "      <td>0</td>\n",
       "    </tr>\n",
       "  </tbody>\n",
       "</table>\n",
       "</div>"
      ],
      "text/plain": [
       "   Loyalty Number  Year  Month  Flights Booked  Flights with Companions  \\\n",
       "0          100018  2017      1               3                        0   \n",
       "1          100102  2017      1              10                        4   \n",
       "2          100140  2017      1               6                        0   \n",
       "\n",
       "   Total Flights  Distance  Points Accumulated  Points Redeemed  \\\n",
       "0              3      1521               152.0                0   \n",
       "1             14      2030               203.0                0   \n",
       "2              6      1200               120.0                0   \n",
       "\n",
       "   Dollar Cost Points Redeemed  \n",
       "0                            0  \n",
       "1                            0  \n",
       "2                            0  "
      ]
     },
     "metadata": {},
     "output_type": "display_data"
    },
    {
     "data": {
      "text/html": [
       "<div>\n",
       "<style scoped>\n",
       "    .dataframe tbody tr th:only-of-type {\n",
       "        vertical-align: middle;\n",
       "    }\n",
       "\n",
       "    .dataframe tbody tr th {\n",
       "        vertical-align: top;\n",
       "    }\n",
       "\n",
       "    .dataframe thead th {\n",
       "        text-align: right;\n",
       "    }\n",
       "</style>\n",
       "<table border=\"1\" class=\"dataframe\">\n",
       "  <thead>\n",
       "    <tr style=\"text-align: right;\">\n",
       "      <th></th>\n",
       "      <th>Loyalty Number</th>\n",
       "      <th>Year</th>\n",
       "      <th>Month</th>\n",
       "      <th>Flights Booked</th>\n",
       "      <th>Flights with Companions</th>\n",
       "      <th>Total Flights</th>\n",
       "      <th>Distance</th>\n",
       "      <th>Points Accumulated</th>\n",
       "      <th>Points Redeemed</th>\n",
       "      <th>Dollar Cost Points Redeemed</th>\n",
       "    </tr>\n",
       "  </thead>\n",
       "  <tbody>\n",
       "    <tr>\n",
       "      <th>405621</th>\n",
       "      <td>999940</td>\n",
       "      <td>2018</td>\n",
       "      <td>12</td>\n",
       "      <td>3</td>\n",
       "      <td>0</td>\n",
       "      <td>3</td>\n",
       "      <td>1233</td>\n",
       "      <td>123.0</td>\n",
       "      <td>0</td>\n",
       "      <td>0</td>\n",
       "    </tr>\n",
       "    <tr>\n",
       "      <th>405622</th>\n",
       "      <td>999982</td>\n",
       "      <td>2018</td>\n",
       "      <td>12</td>\n",
       "      <td>0</td>\n",
       "      <td>0</td>\n",
       "      <td>0</td>\n",
       "      <td>0</td>\n",
       "      <td>0.0</td>\n",
       "      <td>0</td>\n",
       "      <td>0</td>\n",
       "    </tr>\n",
       "    <tr>\n",
       "      <th>405623</th>\n",
       "      <td>999986</td>\n",
       "      <td>2018</td>\n",
       "      <td>12</td>\n",
       "      <td>0</td>\n",
       "      <td>0</td>\n",
       "      <td>0</td>\n",
       "      <td>0</td>\n",
       "      <td>0.0</td>\n",
       "      <td>0</td>\n",
       "      <td>0</td>\n",
       "    </tr>\n",
       "  </tbody>\n",
       "</table>\n",
       "</div>"
      ],
      "text/plain": [
       "        Loyalty Number  Year  Month  Flights Booked  Flights with Companions  \\\n",
       "405621          999940  2018     12               3                        0   \n",
       "405622          999982  2018     12               0                        0   \n",
       "405623          999986  2018     12               0                        0   \n",
       "\n",
       "        Total Flights  Distance  Points Accumulated  Points Redeemed  \\\n",
       "405621              3      1233               123.0                0   \n",
       "405622              0         0                 0.0                0   \n",
       "405623              0         0                 0.0                0   \n",
       "\n",
       "        Dollar Cost Points Redeemed  \n",
       "405621                            0  \n",
       "405622                            0  \n",
       "405623                            0  "
      ]
     },
     "metadata": {},
     "output_type": "display_data"
    },
    {
     "data": {
      "text/html": [
       "<div>\n",
       "<style scoped>\n",
       "    .dataframe tbody tr th:only-of-type {\n",
       "        vertical-align: middle;\n",
       "    }\n",
       "\n",
       "    .dataframe tbody tr th {\n",
       "        vertical-align: top;\n",
       "    }\n",
       "\n",
       "    .dataframe thead th {\n",
       "        text-align: right;\n",
       "    }\n",
       "</style>\n",
       "<table border=\"1\" class=\"dataframe\">\n",
       "  <thead>\n",
       "    <tr style=\"text-align: right;\">\n",
       "      <th></th>\n",
       "      <th>Loyalty Number</th>\n",
       "      <th>Year</th>\n",
       "      <th>Month</th>\n",
       "      <th>Flights Booked</th>\n",
       "      <th>Flights with Companions</th>\n",
       "      <th>Total Flights</th>\n",
       "      <th>Distance</th>\n",
       "      <th>Points Accumulated</th>\n",
       "      <th>Points Redeemed</th>\n",
       "      <th>Dollar Cost Points Redeemed</th>\n",
       "    </tr>\n",
       "  </thead>\n",
       "  <tbody>\n",
       "    <tr>\n",
       "      <th>340065</th>\n",
       "      <td>208961</td>\n",
       "      <td>2018</td>\n",
       "      <td>9</td>\n",
       "      <td>0</td>\n",
       "      <td>0</td>\n",
       "      <td>0</td>\n",
       "      <td>0</td>\n",
       "      <td>0.0</td>\n",
       "      <td>0</td>\n",
       "      <td>0</td>\n",
       "    </tr>\n",
       "    <tr>\n",
       "      <th>11175</th>\n",
       "      <td>694472</td>\n",
       "      <td>2017</td>\n",
       "      <td>1</td>\n",
       "      <td>3</td>\n",
       "      <td>0</td>\n",
       "      <td>3</td>\n",
       "      <td>246</td>\n",
       "      <td>24.0</td>\n",
       "      <td>0</td>\n",
       "      <td>0</td>\n",
       "    </tr>\n",
       "    <tr>\n",
       "      <th>65259</th>\n",
       "      <td>245440</td>\n",
       "      <td>2017</td>\n",
       "      <td>5</td>\n",
       "      <td>0</td>\n",
       "      <td>0</td>\n",
       "      <td>0</td>\n",
       "      <td>0</td>\n",
       "      <td>0.0</td>\n",
       "      <td>0</td>\n",
       "      <td>0</td>\n",
       "    </tr>\n",
       "  </tbody>\n",
       "</table>\n",
       "</div>"
      ],
      "text/plain": [
       "        Loyalty Number  Year  Month  Flights Booked  Flights with Companions  \\\n",
       "340065          208961  2018      9               0                        0   \n",
       "11175           694472  2017      1               3                        0   \n",
       "65259           245440  2017      5               0                        0   \n",
       "\n",
       "        Total Flights  Distance  Points Accumulated  Points Redeemed  \\\n",
       "340065              0         0                 0.0                0   \n",
       "11175               3       246                24.0                0   \n",
       "65259               0         0                 0.0                0   \n",
       "\n",
       "        Dollar Cost Points Redeemed  \n",
       "340065                            0  \n",
       "11175                             0  \n",
       "65259                             0  "
      ]
     },
     "metadata": {},
     "output_type": "display_data"
    }
   ],
   "source": [
    "# Realizamos una visualización rápida de los datos: \n",
    "\n",
    "display(df_CFA.head(3))\n",
    "display(df_CFA.tail(3))\n",
    "display(df_CFA.sample(3))"
   ]
  },
  {
   "cell_type": "code",
   "execution_count": 64,
   "id": "aebb4569",
   "metadata": {},
   "outputs": [
    {
     "name": "stdout",
     "output_type": "stream",
     "text": [
      "El número de filas es de 405624 y el número de columnas es de 10.\n",
      "Las diferentes columnas que tenemos son:\n",
      "    1. Loyalty Number\n",
      "    2. Year\n",
      "    3. Month\n",
      "    4. Flights Booked\n",
      "    5. Flights with Companions\n",
      "    6. Total Flights\n",
      "    7. Distance\n",
      "    8. Points Accumulated\n",
      "    9. Points Redeemed\n",
      "    10. Dollar Cost Points Redeemed\n"
     ]
    }
   ],
   "source": [
    "print(f'El número de filas es de {df_CFA.shape[0]} y el número de columnas es de {df_CFA.shape[1]}.')\n",
    "\n",
    "print('Las diferentes columnas que tenemos son:')\n",
    "num = 0\n",
    "for i in df_CFA.columns: \n",
    "    num +=1\n",
    "    print(f'    {num}. {i}')"
   ]
  },
  {
   "cell_type": "code",
   "execution_count": 65,
   "id": "060adb26",
   "metadata": {},
   "outputs": [
    {
     "name": "stdout",
     "output_type": "stream",
     "text": [
      "<class 'pandas.core.frame.DataFrame'>\n",
      "RangeIndex: 405624 entries, 0 to 405623\n",
      "Data columns (total 10 columns):\n",
      " #   Column                       Non-Null Count   Dtype  \n",
      "---  ------                       --------------   -----  \n",
      " 0   Loyalty Number               405624 non-null  int64  \n",
      " 1   Year                         405624 non-null  int64  \n",
      " 2   Month                        405624 non-null  int64  \n",
      " 3   Flights Booked               405624 non-null  int64  \n",
      " 4   Flights with Companions      405624 non-null  int64  \n",
      " 5   Total Flights                405624 non-null  int64  \n",
      " 6   Distance                     405624 non-null  int64  \n",
      " 7   Points Accumulated           405624 non-null  float64\n",
      " 8   Points Redeemed              405624 non-null  int64  \n",
      " 9   Dollar Cost Points Redeemed  405624 non-null  int64  \n",
      "dtypes: float64(1), int64(9)\n",
      "memory usage: 30.9 MB\n"
     ]
    }
   ],
   "source": [
    "# Obtenemos información del conjunto de datos.\n",
    "df_CFA.info()"
   ]
  },
  {
   "cell_type": "code",
   "execution_count": 66,
   "id": "2d20e862",
   "metadata": {},
   "outputs": [],
   "source": [
    "# Ninguna variable tiene valores nulos. "
   ]
  },
  {
   "cell_type": "code",
   "execution_count": 67,
   "id": "ee2dcfd6",
   "metadata": {},
   "outputs": [
    {
     "data": {
      "text/plain": [
       "Index(['Loyalty_Number', 'Year', 'Month', 'Flights_Booked',\n",
       "       'Flights_with_Companions', 'Total_Flights', 'Distance',\n",
       "       'Points_Accumulated', 'Points_Redeemed', 'Dollar_Cost_Points_Redeemed'],\n",
       "      dtype='object')"
      ]
     },
     "execution_count": 67,
     "metadata": {},
     "output_type": "execute_result"
    }
   ],
   "source": [
    "# Vamos a homogeneizar los nombres de las columnas, siendo el cambio que le vamos a hacer quitar los espacios en los nombres y sustituirlos por \n",
    "# barras bajas (_); ya que tener espacios en los nombres de nuestras columnas pueden llevar a errores cuando queramos realizar algunos comandos. \n",
    "\n",
    "new_col = {col: col.replace(' ', '_') for col in df_CFA.columns}\n",
    "df_CFA.rename(columns=new_col, inplace=True)\n",
    "df_CFA.columns"
   ]
  },
  {
   "cell_type": "code",
   "execution_count": 68,
   "id": "a20ac7bf",
   "metadata": {},
   "outputs": [
    {
     "data": {
      "text/html": [
       "<div>\n",
       "<style scoped>\n",
       "    .dataframe tbody tr th:only-of-type {\n",
       "        vertical-align: middle;\n",
       "    }\n",
       "\n",
       "    .dataframe tbody tr th {\n",
       "        vertical-align: top;\n",
       "    }\n",
       "\n",
       "    .dataframe thead th {\n",
       "        text-align: right;\n",
       "    }\n",
       "</style>\n",
       "<table border=\"1\" class=\"dataframe\">\n",
       "  <thead>\n",
       "    <tr style=\"text-align: right;\">\n",
       "      <th></th>\n",
       "      <th>count</th>\n",
       "      <th>mean</th>\n",
       "      <th>std</th>\n",
       "      <th>min</th>\n",
       "      <th>25%</th>\n",
       "      <th>50%</th>\n",
       "      <th>75%</th>\n",
       "      <th>max</th>\n",
       "    </tr>\n",
       "  </thead>\n",
       "  <tbody>\n",
       "    <tr>\n",
       "      <th>Loyalty_Number</th>\n",
       "      <td>405624.0</td>\n",
       "      <td>550037.873084</td>\n",
       "      <td>258935.286969</td>\n",
       "      <td>100018.0</td>\n",
       "      <td>326961.00</td>\n",
       "      <td>550834.0</td>\n",
       "      <td>772194.00</td>\n",
       "      <td>999986.0</td>\n",
       "    </tr>\n",
       "    <tr>\n",
       "      <th>Year</th>\n",
       "      <td>405624.0</td>\n",
       "      <td>2017.500000</td>\n",
       "      <td>0.500001</td>\n",
       "      <td>2017.0</td>\n",
       "      <td>2017.00</td>\n",
       "      <td>2017.5</td>\n",
       "      <td>2018.00</td>\n",
       "      <td>2018.0</td>\n",
       "    </tr>\n",
       "    <tr>\n",
       "      <th>Month</th>\n",
       "      <td>405624.0</td>\n",
       "      <td>6.500000</td>\n",
       "      <td>3.452057</td>\n",
       "      <td>1.0</td>\n",
       "      <td>3.75</td>\n",
       "      <td>6.5</td>\n",
       "      <td>9.25</td>\n",
       "      <td>12.0</td>\n",
       "    </tr>\n",
       "    <tr>\n",
       "      <th>Flights_Booked</th>\n",
       "      <td>405624.0</td>\n",
       "      <td>4.115052</td>\n",
       "      <td>5.225518</td>\n",
       "      <td>0.0</td>\n",
       "      <td>0.00</td>\n",
       "      <td>1.0</td>\n",
       "      <td>8.00</td>\n",
       "      <td>21.0</td>\n",
       "    </tr>\n",
       "    <tr>\n",
       "      <th>Flights_with_Companions</th>\n",
       "      <td>405624.0</td>\n",
       "      <td>1.031805</td>\n",
       "      <td>2.076869</td>\n",
       "      <td>0.0</td>\n",
       "      <td>0.00</td>\n",
       "      <td>0.0</td>\n",
       "      <td>1.00</td>\n",
       "      <td>11.0</td>\n",
       "    </tr>\n",
       "    <tr>\n",
       "      <th>Total_Flights</th>\n",
       "      <td>405624.0</td>\n",
       "      <td>5.146858</td>\n",
       "      <td>6.521227</td>\n",
       "      <td>0.0</td>\n",
       "      <td>0.00</td>\n",
       "      <td>1.0</td>\n",
       "      <td>10.00</td>\n",
       "      <td>32.0</td>\n",
       "    </tr>\n",
       "    <tr>\n",
       "      <th>Distance</th>\n",
       "      <td>405624.0</td>\n",
       "      <td>1208.880059</td>\n",
       "      <td>1433.155320</td>\n",
       "      <td>0.0</td>\n",
       "      <td>0.00</td>\n",
       "      <td>488.0</td>\n",
       "      <td>2336.00</td>\n",
       "      <td>6293.0</td>\n",
       "    </tr>\n",
       "    <tr>\n",
       "      <th>Points_Accumulated</th>\n",
       "      <td>405624.0</td>\n",
       "      <td>123.692721</td>\n",
       "      <td>146.599831</td>\n",
       "      <td>0.0</td>\n",
       "      <td>0.00</td>\n",
       "      <td>50.0</td>\n",
       "      <td>239.00</td>\n",
       "      <td>676.5</td>\n",
       "    </tr>\n",
       "    <tr>\n",
       "      <th>Points_Redeemed</th>\n",
       "      <td>405624.0</td>\n",
       "      <td>30.696872</td>\n",
       "      <td>125.486049</td>\n",
       "      <td>0.0</td>\n",
       "      <td>0.00</td>\n",
       "      <td>0.0</td>\n",
       "      <td>0.00</td>\n",
       "      <td>876.0</td>\n",
       "    </tr>\n",
       "    <tr>\n",
       "      <th>Dollar_Cost_Points_Redeemed</th>\n",
       "      <td>405624.0</td>\n",
       "      <td>2.484503</td>\n",
       "      <td>10.150038</td>\n",
       "      <td>0.0</td>\n",
       "      <td>0.00</td>\n",
       "      <td>0.0</td>\n",
       "      <td>0.00</td>\n",
       "      <td>71.0</td>\n",
       "    </tr>\n",
       "  </tbody>\n",
       "</table>\n",
       "</div>"
      ],
      "text/plain": [
       "                                count           mean            std       min  \\\n",
       "Loyalty_Number               405624.0  550037.873084  258935.286969  100018.0   \n",
       "Year                         405624.0    2017.500000       0.500001    2017.0   \n",
       "Month                        405624.0       6.500000       3.452057       1.0   \n",
       "Flights_Booked               405624.0       4.115052       5.225518       0.0   \n",
       "Flights_with_Companions      405624.0       1.031805       2.076869       0.0   \n",
       "Total_Flights                405624.0       5.146858       6.521227       0.0   \n",
       "Distance                     405624.0    1208.880059    1433.155320       0.0   \n",
       "Points_Accumulated           405624.0     123.692721     146.599831       0.0   \n",
       "Points_Redeemed              405624.0      30.696872     125.486049       0.0   \n",
       "Dollar_Cost_Points_Redeemed  405624.0       2.484503      10.150038       0.0   \n",
       "\n",
       "                                   25%       50%        75%       max  \n",
       "Loyalty_Number               326961.00  550834.0  772194.00  999986.0  \n",
       "Year                           2017.00    2017.5    2018.00    2018.0  \n",
       "Month                             3.75       6.5       9.25      12.0  \n",
       "Flights_Booked                    0.00       1.0       8.00      21.0  \n",
       "Flights_with_Companions           0.00       0.0       1.00      11.0  \n",
       "Total_Flights                     0.00       1.0      10.00      32.0  \n",
       "Distance                          0.00     488.0    2336.00    6293.0  \n",
       "Points_Accumulated                0.00      50.0     239.00     676.5  \n",
       "Points_Redeemed                   0.00       0.0       0.00     876.0  \n",
       "Dollar_Cost_Points_Redeemed       0.00       0.0       0.00      71.0  "
      ]
     },
     "execution_count": 68,
     "metadata": {},
     "output_type": "execute_result"
    }
   ],
   "source": [
    "# Vamos a realizar un análisis descriptivo de los datos para poder tener una idea general de los mismos. \n",
    "df_CFA.describe().T"
   ]
  },
  {
   "cell_type": "code",
   "execution_count": 69,
   "id": "bcbd22de",
   "metadata": {},
   "outputs": [],
   "source": [
    "# En nuestro conjunto de datos no existe ninguna variable que sea de tipo categórica, por lo que no tenemos que hacer un \n",
    "# análisis estadístico a parte de este tipo de variables."
   ]
  },
  {
   "cell_type": "code",
   "execution_count": 70,
   "id": "0e48d970",
   "metadata": {},
   "outputs": [
    {
     "data": {
      "image/png": "[encoded data removed]",
      "text/plain": [
       "<Figure size 2000x1000 with 12 Axes>"
      ]
     },
     "metadata": {},
     "output_type": "display_data"
    }
   ],
   "source": [
    "# Vamos a hacer un análisis de las variables. \n",
    "\n",
    "# Histograma: \n",
    "\n",
    "df_CFA.hist(bins=25, figsize=(20, 10));"
   ]
  },
  {
   "cell_type": "code",
   "execution_count": null,
   "id": "159aaa37",
   "metadata": {},
   "outputs": [],
   "source": [
    "# Aunque realizamos los histogramas de todas las columnas, no tendría mucho sentido hacerlas, ya que algunas variables como puede ser \"Loyalty Number\" no \n",
    "# niene sentido representarla porque es un identificador único de cliente o \"Flights Booked\", ya que son el total de vuelos reservados por el cliente en \n",
    "# un mes específico y sin tener en cuenta el mes, no tiene sentido su representación. "
   ]
  },
  {
   "cell_type": "code",
   "execution_count": 82,
   "id": "ecba32f9",
   "metadata": {},
   "outputs": [
    {
     "data": {
      "image/png": "[encoded data removed]",
      "text/plain": [
       "<Figure size 640x480 with 1 Axes>"
      ]
     },
     "metadata": {},
     "output_type": "display_data"
    }
   ],
   "source": [
    "# Vamos a hacer unos boxplots de aquellas variables que parezca tener más sentido representar.\n",
    "\n",
    "sns.boxplot(data = df_CFA, x = 'Month')\n",
    "mean_month = df_CFA['Month'].mean()\n",
    "median_month = df_CFA['Month'].median()\n",
    "plt.axvline(x = mean_month, color = 'red', linestyle='--', linewidth = 2, label = f\"MEDIA: {mean_month}\")\n",
    "plt.axvline(x = median_month, color = 'green', linestyle='--', linewidth = 2, label = f\"MEDIANA: {median_month}\")\n",
    "plt.legend();\n"
   ]
  },
  {
   "cell_type": "code",
   "execution_count": null,
   "id": "0876da68",
   "metadata": {},
   "outputs": [
    {
     "data": {
      "text/plain": [
       "Month\n",
       "1     33802\n",
       "9     33802\n",
       "2     33802\n",
       "3     33802\n",
       "11    33802\n",
       "4     33802\n",
       "5     33802\n",
       "7     33802\n",
       "6     33802\n",
       "8     33802\n",
       "10    33802\n",
       "12    33802\n",
       "Name: count, dtype: int64"
      ]
     },
     "execution_count": 78,
     "metadata": {},
     "output_type": "execute_result"
    }
   ],
   "source": [
    "# Realizar un boxplots con la variable 'Month', no nos arroja grandes conclusiones, ya que para todos los meses tenemos el mismo número de datos.\n",
    "df_CFA['Month'].value_counts()"
   ]
  },
  {
   "cell_type": "code",
   "execution_count": 79,
   "id": "775d0e73",
   "metadata": {},
   "outputs": [],
   "source": [
    "# Probablemente, este conjunto de datos no nos de mucha información sin unirlo con el conjunto de datos de \"Customer Loyalty History\"."
   ]
  },
  {
   "cell_type": "code",
   "execution_count": 105,
   "id": "a3517cea",
   "metadata": {},
   "outputs": [
    {
     "name": "stdout",
     "output_type": "stream",
     "text": [
      "Ninguna columna tiene valores nulos. Puedes continuar con tu estudio.\n"
     ]
    }
   ],
   "source": [
    "nulos = (df_CFA.isnull().sum()/df_CFA.shape[0]*100).reset_index()\n",
    "nulos.rename(columns={'index': 'columna', 0:'% nulos'}, inplace=True)\n",
    "\n",
    "if nulos['% nulos'].sum() == 0: \n",
    "    print('Ninguna columna tiene valores nulos. Puedes continuar con tu estudio.')\n",
    "else: \n",
    "    col_nulos = nulos.loc[nulos['% nulos']!=0, 'columna'].to_list() \n",
    "    for i in col_nulos:\n",
    "        print(f'La siguiente columna tiene valores nulos: {i}')"
   ]
  },
  {
   "cell_type": "code",
   "execution_count": null,
   "id": "5dfc07c1",
   "metadata": {},
   "outputs": [],
   "source": [
    "# Con esta función podemos saber que variables de nuestro dataframe tiene valores nulos. \n",
    "# Nos devuleve el nombre de las columnas que tiene valores nulos, de manera que podemos \n",
    "# guardarlas en una variable (lista), por si se necesitan a posteriori.\n",
    "\n",
    "def variables_nulas(dataframe): \n",
    "    nulos = (dataframe.isnull().sum()/dataframe.shape[0]*100).reset_index()\n",
    "    nulos.rename(columns={'index': 'columna', 0:'%_nulos'}, inplace=True)\n",
    "\n",
    "    if nulos['%_nulos'].sum() == 0: \n",
    "        print('Ninguna columna tiene valores nulos. Puedes continuar con tu estudio.')\n",
    "    else: \n",
    "        col_nulos = nulos.loc[nulos['%_nulos']!=0, 'columna'].to_list() \n",
    "        for i in col_nulos:\n",
    "            print(f'La siguiente columna tiene valores nulos: {i}')\n",
    "        return col_nulos"
   ]
  },
  {
   "cell_type": "code",
   "execution_count": 118,
   "id": "6e49264d",
   "metadata": {},
   "outputs": [
    {
     "name": "stdout",
     "output_type": "stream",
     "text": [
      "Ninguna columna tiene valores nulos. Puedes continuar con tu estudio.\n"
     ]
    }
   ],
   "source": [
    "b = variables_nulas(df_CFA)"
   ]
  },
  {
   "cell_type": "code",
   "execution_count": 116,
   "id": "7ec3893b",
   "metadata": {},
   "outputs": [
    {
     "name": "stdout",
     "output_type": "stream",
     "text": [
      "La siguiente columna tiene valores nulos: Salary\n",
      "La siguiente columna tiene valores nulos: Cancellation Year\n",
      "La siguiente columna tiene valores nulos: Cancellation Month\n"
     ]
    }
   ],
   "source": [
    "c = variables_nulas(df_CLH)"
   ]
  },
  {
   "cell_type": "code",
   "execution_count": 117,
   "id": "a21c602d",
   "metadata": {},
   "outputs": [
    {
     "data": {
      "text/plain": [
       "['Salary', 'Cancellation Year', 'Cancellation Month']"
      ]
     },
     "execution_count": 117,
     "metadata": {},
     "output_type": "execute_result"
    }
   ],
   "source": [
    "c"
   ]
  },
  {
   "cell_type": "code",
   "execution_count": 115,
   "id": "2b9eb0d8",
   "metadata": {},
   "outputs": [
    {
     "data": {
      "text/plain": [
       "['Loyalty_Number',\n",
       " 'Year',\n",
       " 'Month',\n",
       " 'Flights_Booked',\n",
       " 'Flights_with_Companions',\n",
       " 'Total_Flights',\n",
       " 'Distance',\n",
       " 'Points_Accumulated',\n",
       " 'Points_Redeemed',\n",
       " 'Dollar_Cost_Points_Redeemed']"
      ]
     },
     "execution_count": 115,
     "metadata": {},
     "output_type": "execute_result"
    }
   ],
   "source": [
    "col_nulos"
   ]
  },
  {
   "cell_type": "code",
   "execution_count": 109,
   "id": "617b5067",
   "metadata": {},
   "outputs": [
    {
     "data": {
      "text/plain": [
       "['Loyalty_Number',\n",
       " 'Year',\n",
       " 'Month',\n",
       " 'Flights_Booked',\n",
       " 'Flights_with_Companions',\n",
       " 'Total_Flights',\n",
       " 'Distance',\n",
       " 'Points_Accumulated',\n",
       " 'Points_Redeemed',\n",
       " 'Dollar_Cost_Points_Redeemed']"
      ]
     },
     "execution_count": 109,
     "metadata": {},
     "output_type": "execute_result"
    }
   ],
   "source": [
    "col_nulos"
   ]
  },
  {
   "cell_type": "code",
   "execution_count": null,
   "id": "ad345643",
   "metadata": {},
   "outputs": [],
   "source": [
    "# 7. NULOS\n",
    "\n",
    "nulos = (df_clientes.isnull().sum()/df_clientes.shape[0]*100).reset_index()\n",
    "\n",
    "nulos.rename(columns={'index': 'columna', 0:'% nulos'}, inplace=True)\n",
    "\n",
    "mascara = nulos['% nulos'] > 0\n",
    "\n",
    "nulos = nulos[mascara]\n",
    "\n",
    "nulos"
   ]
  }
 ],
 "metadata": {
  "kernelspec": {
   "display_name": "base",
   "language": "python",
   "name": "python3"
  },
  "language_info": {
   "codemirror_mode": {
    "name": "ipython",
    "version": 3
   },
   "file_extension": ".py",
   "mimetype": "text/x-python",
   "name": "python",
   "nbconvert_exporter": "python",
   "pygments_lexer": "ipython3",
   "version": "3.12.7"
  }
 },
 "nbformat": 4,
 "nbformat_minor": 5
}
